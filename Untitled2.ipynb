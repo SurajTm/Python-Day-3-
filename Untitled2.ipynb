{
  "nbformat": 4,
  "nbformat_minor": 0,
  "metadata": {
    "colab": {
      "name": "Untitled2.ipynb",
      "provenance": [],
      "authorship_tag": "ABX9TyPg5kKoh3T11sPRiwyRgue5",
      "include_colab_link": true
    },
    "kernelspec": {
      "name": "python3",
      "display_name": "Python 3"
    }
  },
  "cells": [
    {
      "cell_type": "markdown",
      "metadata": {
        "id": "view-in-github",
        "colab_type": "text"
      },
      "source": [
        "<a href=\"https://colab.research.google.com/github/SurajTm/Python-Day-3-/blob/master/Untitled2.ipynb\" target=\"_parent\"><img src=\"https://colab.research.google.com/assets/colab-badge.svg\" alt=\"Open In Colab\"/></a>"
      ]
    },
    {
      "cell_type": "code",
      "metadata": {
        "id": "lZ89cZ7xm2ao",
        "colab_type": "code",
        "colab": {
          "base_uri": "https://localhost:8080/",
          "height": 68
        },
        "outputId": "b6f23ca9-ff95-41ed-fec9-af4152751395"
      },
      "source": [
        "for altitude in range(1000,10000):\n",
        "    altitude=int(input('enter altitude: '))\n",
        "    if altitude==1000:\n",
        "      print('plane is safe to land')\n",
        "    elif altitude>1000 and altitude<5000:\n",
        "      print('bring the plane down to 1000')\n",
        "    else:\n",
        "      print('turn around and try later')"
      ],
      "execution_count": null,
      "outputs": [
        {
          "output_type": "stream",
          "text": [
            "plane is safe to land\n",
            "bring the plane down to 1000\n",
            "turn around and try later\n"
          ],
          "name": "stdout"
        }
      ]
    },
    {
      "cell_type": "markdown",
      "metadata": {
        "id": "VTiEPyg8qhaq",
        "colab_type": "text"
      },
      "source": [
        "Question 2\n"
      ]
    },
    {
      "cell_type": "code",
      "metadata": {
        "id": "BGx0aXhryCiZ",
        "colab_type": "code",
        "colab": {}
      },
      "source": [
        "for number in range(1, 201):\n",
        "  count=0;\n",
        "  for i in range(2,(number//2 + 1)):\n",
        "    if(Number %i ==0):\n",
        "      count = count + 1\n",
        "      break\n",
        "      if (count == 0 and number !=1):\n",
        "        print(\"%d\" %number, end= ' ')"
      ],
      "execution_count": null,
      "outputs": []
    }
  ]
}